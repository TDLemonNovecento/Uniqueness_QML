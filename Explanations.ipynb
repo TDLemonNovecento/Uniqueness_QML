{
 "cells": [
  {
   "cell_type": "markdown",
   "metadata": {},
   "source": [
    "# Information on Code and Mathematical Considerations"
   ]
  },
  {
   "cell_type": "markdown",
   "metadata": {},
   "source": [
    "The datastructure is intended to be as follows: For any folder containing xyz files, all files can be processed with the methods implemented. This allows screening of existing and randomly generated databases such as QM7. If for any representation the mapping function from xyz file to the representation is known, then the first and second derivative with respect to properties of chemical space can be calculated."
   ]
  },
  {
   "cell_type": "markdown",
   "metadata": {},
   "source": [
    "## Code Architecture"
   ]
  },
  {
   "cell_type": "markdown",
   "metadata": {},
   "source": [
    "* main.py: contains global variables and paths and calls functions\n",
    "* derivative.py: contains functions to calculate first and second derivative of mapping function $f_M(x,y,z,Z_I, N)$ at a position $k$.\n",
    "* repro.py: contains mapping functions $f_M$"
   ]
  },
  {
   "cell_type": "markdown",
   "metadata": {},
   "source": [
    "## Representations"
   ]
  },
  {
   "cell_type": "markdown",
   "metadata": {},
   "source": [
    "### Sorted Coulomb Matrix"
   ]
  },
  {
   "cell_type": "markdown",
   "metadata": {},
   "source": [
    "$$M_{ij}(k) = \\begin{cases} \\frac{1}{2} Z_i^{2.4} & \\text{if } i=j\\\\ \\frac{Z_iZ_j}{||\\mathbf{R_i}- \\mathbf{R_j}||} & \\text{if } i \\neq j \\end{cases} $$\n"
   ]
  },
  {
   "cell_type": "markdown",
   "metadata": {},
   "source": [
    "Sorting row-norm: $ \\sum_j M_{1j}(k)^2 \\geq \\sum_jM_{2j}(k)^2 \\geq \\dotso \\geq \\sum_jM_{nj}(k)^2 $"
   ]
  },
  {
   "cell_type": "markdown",
   "metadata": {},
   "source": [
    "The derivative is taken with respect to positions $x,y,z$, a vector of $n$ nuclear charges $Z_I$ and the number of electrons $N$. The size of $Z_I$ is variable and an additional variable that needs to be submitted to the derivative function. The derivative by N simply spits out a matrix derived by N, the derivative by $Z_i$ needs to be specified by a second pointer identifying which $i$ and a derivative by $r_i$ has to be specified similarly but then the output returns vector derivations (each returned element contains vector elements of $dx_i, dy_i, dz_i$)."
   ]
  },
  {
   "cell_type": "code",
   "execution_count": null,
   "metadata": {},
   "outputs": [],
   "source": []
  }
 ],
 "metadata": {
  "kernelspec": {
   "display_name": "Python 3",
   "language": "python",
   "name": "python3"
  },
  "language_info": {
   "codemirror_mode": {
    "name": "ipython",
    "version": 3
   },
   "file_extension": ".py",
   "mimetype": "text/x-python",
   "name": "python",
   "nbconvert_exporter": "python",
   "pygments_lexer": "ipython3",
   "version": "3.8.5"
  }
 },
 "nbformat": 4,
 "nbformat_minor": 4
}
